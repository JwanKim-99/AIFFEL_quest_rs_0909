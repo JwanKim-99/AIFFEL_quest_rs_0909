{
 "cells": [
  {
   "cell_type": "code",
   "execution_count": 1,
   "id": "5c4e364c",
   "metadata": {},
   "outputs": [],
   "source": [
    "# 1. 데이터 가져오기\n",
    "from sklearn.datasets import load_diabetes\n",
    "\n",
    "diabetes = load_diabetes()"
   ]
  },
  {
   "cell_type": "code",
   "execution_count": 2,
   "id": "29362c22",
   "metadata": {},
   "outputs": [],
   "source": [
    "# 2,3. x,y 데이터 준비 \n",
    "df_x = diabetes.data\n",
    "df_y = diabetes.target"
   ]
  },
  {
   "cell_type": "code",
   "execution_count": 3,
   "id": "e3391179",
   "metadata": {},
   "outputs": [
    {
     "name": "stdout",
     "output_type": "stream",
     "text": [
      "(442, 10)\n",
      "(442,)\n"
     ]
    }
   ],
   "source": [
    "# 데이터 확인\n",
    "print(df_x.shape)\n",
    "print(df_y.shape)"
   ]
  },
  {
   "cell_type": "code",
   "execution_count": 4,
   "id": "dd8cc23a",
   "metadata": {},
   "outputs": [
    {
     "name": "stdout",
     "output_type": "stream",
     "text": [
      "<class 'numpy.ndarray'>\n",
      "<class 'numpy.ndarray'>\n"
     ]
    }
   ],
   "source": [
    "# 데이터 확인\n",
    "print(type(df_x))\n",
    "print(type(df_y))"
   ]
  },
  {
   "cell_type": "code",
   "execution_count": 5,
   "id": "1f67d08c",
   "metadata": {},
   "outputs": [],
   "source": [
    "# 4. train/test 분리\n",
    "from sklearn.model_selection import train_test_split\n",
    "\n",
    "X_train, X_test, y_train, y_test = train_test_split(\n",
    "    df_x, df_y,test_size=0.2, random_state=42)"
   ]
  },
  {
   "cell_type": "code",
   "execution_count": 6,
   "id": "99455d16",
   "metadata": {},
   "outputs": [
    {
     "name": "stdout",
     "output_type": "stream",
     "text": [
      "(353, 10)\n",
      "(89, 10)\n",
      "(353,)\n",
      "(89,)\n"
     ]
    }
   ],
   "source": [
    "print(X_train.shape)\n",
    "print(X_test.shape)\n",
    "print(y_train.shape)\n",
    "print(y_test.shape)"
   ]
  },
  {
   "cell_type": "code",
   "execution_count": 7,
   "id": "650edcb2",
   "metadata": {},
   "outputs": [],
   "source": [
    "# 5. 모델 준비(다중 선형 회귀)\n",
    "import numpy as np\n",
    "\n",
    "# nd.dot(X, w) + b  == predictions += x[:, i] * w[i] + b\n",
    "\n",
    "def linreg(x, w, b):    \n",
    "    prediction = np.dot(x,w) + b    \n",
    "    return prediction"
   ]
  },
  {
   "cell_type": "code",
   "execution_count": 8,
   "id": "1687436c",
   "metadata": {},
   "outputs": [],
   "source": [
    "# 6. 손실함수 loss 정의하기(mse)\n",
    "\n",
    "def loss(a,b):\n",
    "    mse = ((a - b) ** 2).mean()\n",
    "    return mse\n"
   ]
  },
  {
   "cell_type": "code",
   "execution_count": 15,
   "id": "241ded73",
   "metadata": {},
   "outputs": [],
   "source": [
    "# 7. 기울기 구현\n",
    "\n",
    "def gradient(X,W,b,y, y_pred):\n",
    "    \n",
    "    N = len(y)      \n",
    "    \n",
    "    # 미분 공식\n",
    "    dW = 1/N * 2 * X.T.dot(y_pred - y) #== 2x(pred-real)/n\n",
    "#     gradient_w = np.sum((w*X_train+b-y_train)*2*X_train)/len(X_train)\n",
    "    \n",
    "    db = 2 * (y_pred - y).mean() \n",
    "#     gradient_b = np.sum((w*X_train+b-y_train)*2)/len(X_train)\n",
    "    \n",
    "    return dW, db\n",
    "\n",
    "# from mxnet import autograd, nd\n",
    "# w.attach_grad()\n",
    "# b.attach_grad()\n",
    "\n",
    "# L = MSE(predictions, y)\n"
   ]
  },
  {
   "cell_type": "code",
   "execution_count": 51,
   "id": "e64b6155",
   "metadata": {},
   "outputs": [],
   "source": [
    "# 8.학습률 설정\n",
    "lr = 0.1\n",
    "epochs = 1000\n",
    "w = np.random.rand(10)\n",
    "b = np.random.rand()"
   ]
  },
  {
   "cell_type": "code",
   "execution_count": 52,
   "id": "0ed061b7",
   "metadata": {
    "scrolled": true
   },
   "outputs": [
    {
     "name": "stdout",
     "output_type": "stream",
     "text": [
      "Iteration 0 : Loss 29491.1038\n",
      "Iteration 10 : Loss 6253.0941\n",
      "Iteration 20 : Loss 5910.1882\n",
      "Iteration 30 : Loss 5833.5586\n",
      "Iteration 40 : Loss 5762.2513\n",
      "Iteration 50 : Loss 5693.1815\n",
      "Iteration 60 : Loss 5626.2398\n",
      "Iteration 70 : Loss 5561.3537\n",
      "Iteration 80 : Loss 5498.4537\n",
      "Iteration 90 : Loss 5437.4727\n",
      "Iteration 100 : Loss 5378.3458\n",
      "Iteration 110 : Loss 5321.0106\n",
      "Iteration 120 : Loss 5265.4066\n",
      "Iteration 130 : Loss 5211.4757\n",
      "Iteration 140 : Loss 5159.1616\n",
      "Iteration 150 : Loss 5108.4101\n",
      "Iteration 160 : Loss 5059.1688\n",
      "Iteration 170 : Loss 5011.3872\n",
      "Iteration 180 : Loss 4965.0165\n",
      "Iteration 190 : Loss 4920.0096\n",
      "Iteration 200 : Loss 4876.3211\n",
      "Iteration 210 : Loss 4833.9071\n",
      "Iteration 220 : Loss 4792.7252\n",
      "Iteration 230 : Loss 4752.7347\n",
      "Iteration 240 : Loss 4713.8959\n",
      "Iteration 250 : Loss 4676.1709\n",
      "Iteration 260 : Loss 4639.5229\n",
      "Iteration 270 : Loss 4603.9164\n",
      "Iteration 280 : Loss 4569.3171\n",
      "Iteration 290 : Loss 4535.6919\n",
      "Iteration 300 : Loss 4503.0090\n",
      "Iteration 310 : Loss 4471.2374\n",
      "Iteration 320 : Loss 4440.3474\n",
      "Iteration 330 : Loss 4410.3103\n",
      "Iteration 340 : Loss 4381.0984\n",
      "Iteration 350 : Loss 4352.6848\n",
      "Iteration 360 : Loss 4325.0437\n",
      "Iteration 370 : Loss 4298.1500\n",
      "Iteration 380 : Loss 4271.9798\n",
      "Iteration 390 : Loss 4246.5097\n",
      "Iteration 400 : Loss 4221.7171\n",
      "Iteration 410 : Loss 4197.5805\n",
      "Iteration 420 : Loss 4174.0788\n",
      "Iteration 430 : Loss 4151.1918\n",
      "Iteration 440 : Loss 4128.8999\n",
      "Iteration 450 : Loss 4107.1843\n",
      "Iteration 460 : Loss 4086.0266\n",
      "Iteration 470 : Loss 4065.4093\n",
      "Iteration 480 : Loss 4045.3154\n",
      "Iteration 490 : Loss 4025.7284\n",
      "Iteration 500 : Loss 4006.6325\n",
      "Iteration 510 : Loss 3988.0122\n",
      "Iteration 520 : Loss 3969.8528\n",
      "Iteration 530 : Loss 3952.1401\n",
      "Iteration 540 : Loss 3934.8600\n",
      "Iteration 550 : Loss 3917.9994\n",
      "Iteration 560 : Loss 3901.5453\n",
      "Iteration 570 : Loss 3885.4852\n",
      "Iteration 580 : Loss 3869.8071\n",
      "Iteration 590 : Loss 3854.4993\n",
      "Iteration 600 : Loss 3839.5506\n",
      "Iteration 610 : Loss 3824.9501\n",
      "Iteration 620 : Loss 3810.6874\n",
      "Iteration 630 : Loss 3796.7522\n",
      "Iteration 640 : Loss 3783.1348\n",
      "Iteration 650 : Loss 3769.8256\n",
      "Iteration 660 : Loss 3756.8156\n",
      "Iteration 670 : Loss 3744.0958\n",
      "Iteration 680 : Loss 3731.6578\n",
      "Iteration 690 : Loss 3719.4931\n",
      "Iteration 700 : Loss 3707.5938\n",
      "Iteration 710 : Loss 3695.9523\n",
      "Iteration 720 : Loss 3684.5609\n",
      "Iteration 730 : Loss 3673.4125\n",
      "Iteration 740 : Loss 3662.5000\n",
      "Iteration 750 : Loss 3651.8168\n",
      "Iteration 760 : Loss 3641.3562\n",
      "Iteration 770 : Loss 3631.1120\n",
      "Iteration 780 : Loss 3621.0780\n",
      "Iteration 790 : Loss 3611.2484\n",
      "Iteration 800 : Loss 3601.6173\n",
      "Iteration 810 : Loss 3592.1793\n",
      "Iteration 820 : Loss 3582.9289\n",
      "Iteration 830 : Loss 3573.8611\n",
      "Iteration 840 : Loss 3564.9709\n",
      "Iteration 850 : Loss 3556.2532\n",
      "Iteration 860 : Loss 3547.7036\n",
      "Iteration 870 : Loss 3539.3173\n",
      "Iteration 880 : Loss 3531.0901\n",
      "Iteration 890 : Loss 3523.0176\n",
      "Iteration 900 : Loss 3515.0958\n",
      "Iteration 910 : Loss 3507.3207\n",
      "Iteration 920 : Loss 3499.6884\n",
      "Iteration 930 : Loss 3492.1951\n",
      "Iteration 940 : Loss 3484.8373\n",
      "Iteration 950 : Loss 3477.6115\n",
      "Iteration 960 : Loss 3470.5142\n",
      "Iteration 970 : Loss 3463.5422\n",
      "Iteration 980 : Loss 3456.6922\n",
      "Iteration 990 : Loss 3449.9613\n"
     ]
    }
   ],
   "source": [
    "# 9. 모델 학습\n",
    "\n",
    "losses = []\n",
    "for epoch in range(epochs):\n",
    "    y_pred = linreg(X_train, w, b)    \n",
    "    \n",
    "    l = loss(y_pred, y_train)\n",
    "    losses.append(l)\n",
    "\n",
    "    dw, db = gradient(X_train, w, b, y_train, y_pred)\n",
    "    w -= lr*dw\n",
    "    b -= lr*db\n",
    "    if epoch % 10 == 0:\n",
    "        print('Iteration %d : Loss %0.4f' % (epoch, l))\n",
    "    "
   ]
  },
  {
   "cell_type": "code",
   "execution_count": 53,
   "id": "05e19ad6",
   "metadata": {},
   "outputs": [
    {
     "data": {
      "text/plain": [
       "3090.222992706629"
      ]
     },
     "execution_count": 53,
     "metadata": {},
     "output_type": "execute_result"
    }
   ],
   "source": [
    "# 10. 테스트 데이터 성능 확인\n",
    "prediction = linreg(X_test,w,b)\n",
    "mse = loss(prediction, y_test)\n",
    "mse"
   ]
  },
  {
   "cell_type": "code",
   "execution_count": 54,
   "id": "7b9b7f11",
   "metadata": {},
   "outputs": [
    {
     "data": {
      "image/png": "[encoded data removed]",
      "text/plain": [
       "<Figure size 360x360 with 1 Axes>"
      ]
     },
     "metadata": {
      "needs_background": "light"
     },
     "output_type": "display_data"
    }
   ],
   "source": [
    "# 11. 정답 데이터, 예측 데이터 시각화\n",
    "import matplotlib.pyplot as plt\n",
    "\n",
    "plt.figure(figsize=(5,5))\n",
    "\n",
    "x = np.arange(0, 350)\n",
    "plt.plot(x,x)\n",
    "\n",
    "plt.scatter(prediction, y_test )\n",
    "plt.show()"
   ]
  },
  {
   "cell_type": "code",
   "execution_count": null,
   "id": "7be76836",
   "metadata": {},
   "outputs": [],
   "source": []
  }
 ],
 "metadata": {
  "kernelspec": {
   "display_name": "Python 3 (ipykernel)",
   "language": "python",
   "name": "python3"
  },
  "language_info": {
   "codemirror_mode": {
    "name": "ipython",
    "version": 3
   },
   "file_extension": ".py",
   "mimetype": "text/x-python",
   "name": "python",
   "nbconvert_exporter": "python",
   "pygments_lexer": "ipython3",
   "version": "3.9.7"
  }
 },
 "nbformat": 4,
 "nbformat_minor": 5
}
